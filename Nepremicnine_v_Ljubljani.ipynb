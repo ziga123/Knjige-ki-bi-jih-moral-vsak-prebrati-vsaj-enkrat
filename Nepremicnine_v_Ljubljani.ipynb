{
 "cells": [
  {
   "cell_type": "markdown",
   "metadata": {},
   "source": [
    "# Nepremičnine v Ljubljani\n",
    "\n",
    "Pri projektni nalogi bom analiziral trg Ljubljanskih nepremičnin na podlagi podatkov zbranih s strani Nepremicnine.net. Iz nabora podatkov bom skušal izluščiti čim več uporabnih informacij in zanimivosti o nepremičninah in poskušal narediti kakšne sklepe."
   ]
  },
  {
   "cell_type": "code",
   "execution_count": 127,
   "metadata": {},
   "outputs": [],
   "source": [
    "# Naložimo pandas\n",
    "import pandas as pd\n",
    "import numpy as np\n",
    "\n",
    "# Naložimo razpredelnico\n",
    "nepremicnine = pd.read_csv('obdelani-podatki/stanovanjaLJ.csv', index_col=\"Id\")\n",
    "\n",
    "pd.options.display.max_rows = 20\n",
    "\n",
    "# Uvozimo knjižnico za risanje grafov\n",
    "%matplotlib inline"
   ]
  },
  {
   "cell_type": "code",
   "execution_count": 128,
   "metadata": {},
   "outputs": [
    {
     "data": {
      "text/html": [
       "<div>\n",
       "<style scoped>\n",
       "    .dataframe tbody tr th:only-of-type {\n",
       "        vertical-align: middle;\n",
       "    }\n",
       "\n",
       "    .dataframe tbody tr th {\n",
       "        vertical-align: top;\n",
       "    }\n",
       "\n",
       "    .dataframe thead th {\n",
       "        text-align: right;\n",
       "    }\n",
       "</style>\n",
       "<table border=\"1\" class=\"dataframe\">\n",
       "  <thead>\n",
       "    <tr style=\"text-align: right;\">\n",
       "      <th></th>\n",
       "      <th>Lokacija</th>\n",
       "      <th>Leto</th>\n",
       "      <th>Sobe</th>\n",
       "      <th>Kvadratura</th>\n",
       "      <th>Agencija</th>\n",
       "      <th>Cena</th>\n",
       "    </tr>\n",
       "    <tr>\n",
       "      <th>Id</th>\n",
       "      <th></th>\n",
       "      <th></th>\n",
       "      <th></th>\n",
       "      <th></th>\n",
       "      <th></th>\n",
       "      <th></th>\n",
       "    </tr>\n",
       "  </thead>\n",
       "  <tbody>\n",
       "    <tr>\n",
       "      <td>5610162</td>\n",
       "      <td>LJ. CENTER, MESTNI TRG</td>\n",
       "      <td>1459</td>\n",
       "      <td>2.5</td>\n",
       "      <td>86.00</td>\n",
       "      <td>Komfort skupina d.o.o., nepremičnine</td>\n",
       "      <td>288000.00</td>\n",
       "    </tr>\n",
       "    <tr>\n",
       "      <td>5867227</td>\n",
       "      <td>LJ. VIČ, CESTA NA BRDO</td>\n",
       "      <td>2011</td>\n",
       "      <td>3.0</td>\n",
       "      <td>197.39</td>\n",
       "      <td>Zasebna ponudba</td>\n",
       "      <td>349900.00</td>\n",
       "    </tr>\n",
       "    <tr>\n",
       "      <td>5893832</td>\n",
       "      <td>LJ. BEŽIGRAD</td>\n",
       "      <td>2014</td>\n",
       "      <td>4.0</td>\n",
       "      <td>105.18</td>\n",
       "      <td>Eko srebrna hiša d.o.o.</td>\n",
       "      <td>466688.74</td>\n",
       "    </tr>\n",
       "    <tr>\n",
       "      <td>5893834</td>\n",
       "      <td>LJ. BEŽIGRAD</td>\n",
       "      <td>2014</td>\n",
       "      <td>4.0</td>\n",
       "      <td>150.91</td>\n",
       "      <td>Eko srebrna hiša d.o.o.</td>\n",
       "      <td>638726.62</td>\n",
       "    </tr>\n",
       "    <tr>\n",
       "      <td>5896102</td>\n",
       "      <td>LJ. BEŽIGRAD</td>\n",
       "      <td>2014</td>\n",
       "      <td>3.0</td>\n",
       "      <td>90.43</td>\n",
       "      <td>Eko srebrna hiša d.o.o.</td>\n",
       "      <td>390647.08</td>\n",
       "    </tr>\n",
       "    <tr>\n",
       "      <td>...</td>\n",
       "      <td>...</td>\n",
       "      <td>...</td>\n",
       "      <td>...</td>\n",
       "      <td>...</td>\n",
       "      <td>...</td>\n",
       "      <td>...</td>\n",
       "    </tr>\n",
       "    <tr>\n",
       "      <td>6303210</td>\n",
       "      <td>LJ. ŠIŠKA</td>\n",
       "      <td>1964</td>\n",
       "      <td>3.0</td>\n",
       "      <td>69.40</td>\n",
       "      <td>MESTO NEPREMIČNIN d.o.o.</td>\n",
       "      <td>174000.00</td>\n",
       "    </tr>\n",
       "    <tr>\n",
       "      <td>6303211</td>\n",
       "      <td>LJ. CENTER, BETETHOVNOVA ULICA</td>\n",
       "      <td>1924</td>\n",
       "      <td>4.0</td>\n",
       "      <td>142.50</td>\n",
       "      <td>Nepremičnine Plus d.o.o.</td>\n",
       "      <td>535000.00</td>\n",
       "    </tr>\n",
       "    <tr>\n",
       "      <td>6303228</td>\n",
       "      <td>FUŽINE</td>\n",
       "      <td>1985</td>\n",
       "      <td>4.0</td>\n",
       "      <td>99.00</td>\n",
       "      <td>STAN nepremičnine d.o.o., Ljubljana</td>\n",
       "      <td>250000.00</td>\n",
       "    </tr>\n",
       "    <tr>\n",
       "      <td>6303233</td>\n",
       "      <td>LJ. MOSTE</td>\n",
       "      <td>1843</td>\n",
       "      <td>2.0</td>\n",
       "      <td>54.00</td>\n",
       "      <td>DVOREC POSREDNIŠKA HIŠA d.o.o.</td>\n",
       "      <td>119900.00</td>\n",
       "    </tr>\n",
       "    <tr>\n",
       "      <td>6303244</td>\n",
       "      <td>LJ. CENTER</td>\n",
       "      <td>1845</td>\n",
       "      <td>3.0</td>\n",
       "      <td>75.00</td>\n",
       "      <td>LJUBLJANA NEPREMIČNINE d.o.o.</td>\n",
       "      <td>275000.00</td>\n",
       "    </tr>\n",
       "  </tbody>\n",
       "</table>\n",
       "<p>1548 rows × 6 columns</p>\n",
       "</div>"
      ],
      "text/plain": [
       "                               Lokacija  Leto  Sobe  Kvadratura  \\\n",
       "Id                                                                \n",
       "5610162          LJ. CENTER, MESTNI TRG  1459   2.5       86.00   \n",
       "5867227          LJ. VIČ, CESTA NA BRDO  2011   3.0      197.39   \n",
       "5893832                    LJ. BEŽIGRAD  2014   4.0      105.18   \n",
       "5893834                    LJ. BEŽIGRAD  2014   4.0      150.91   \n",
       "5896102                    LJ. BEŽIGRAD  2014   3.0       90.43   \n",
       "...                                 ...   ...   ...         ...   \n",
       "6303210                       LJ. ŠIŠKA  1964   3.0       69.40   \n",
       "6303211  LJ. CENTER, BETETHOVNOVA ULICA  1924   4.0      142.50   \n",
       "6303228                          FUŽINE  1985   4.0       99.00   \n",
       "6303233                       LJ. MOSTE  1843   2.0       54.00   \n",
       "6303244                      LJ. CENTER  1845   3.0       75.00   \n",
       "\n",
       "                                     Agencija       Cena  \n",
       "Id                                                        \n",
       "5610162  Komfort skupina d.o.o., nepremičnine  288000.00  \n",
       "5867227                       Zasebna ponudba  349900.00  \n",
       "5893832               Eko srebrna hiša d.o.o.  466688.74  \n",
       "5893834               Eko srebrna hiša d.o.o.  638726.62  \n",
       "5896102               Eko srebrna hiša d.o.o.  390647.08  \n",
       "...                                       ...        ...  \n",
       "6303210              MESTO NEPREMIČNIN d.o.o.  174000.00  \n",
       "6303211              Nepremičnine Plus d.o.o.  535000.00  \n",
       "6303228   STAN nepremičnine d.o.o., Ljubljana  250000.00  \n",
       "6303233        DVOREC POSREDNIŠKA HIŠA d.o.o.  119900.00  \n",
       "6303244         LJUBLJANA NEPREMIČNINE d.o.o.  275000.00  \n",
       "\n",
       "[1548 rows x 6 columns]"
      ]
     },
     "execution_count": 128,
     "metadata": {},
     "output_type": "execute_result"
    }
   ],
   "source": [
    "nepremicnine"
   ]
  },
  {
   "cell_type": "markdown",
   "metadata": {},
   "source": [
    "# Katere lokacije imajo najvišje cene v Ljubljani?\n",
    "\n",
    "Moja hipoteza je da bo to center ljubljane, zaradi očitnih razlogov. Vendar bi se kasneje rad prepričal, če se statistika spremeni pod pogojem da se omejim na krajše časovno obdobje gradnje. Pričakujem da bo število dražjih nepremičnin, ki so zgrajene šele po letu 2000 bolj enakomerno porazdeljeno kot če upoštevam vsa leta. Pri vsem tem bom za \"drage\" nepremičnine upošteval tista, ki stanejo nad 500000 €."
   ]
  },
  {
   "cell_type": "code",
   "execution_count": 21,
   "metadata": {},
   "outputs": [
    {
     "data": {
      "text/html": [
       "<div>\n",
       "<style scoped>\n",
       "    .dataframe tbody tr th:only-of-type {\n",
       "        vertical-align: middle;\n",
       "    }\n",
       "\n",
       "    .dataframe tbody tr th {\n",
       "        vertical-align: top;\n",
       "    }\n",
       "\n",
       "    .dataframe thead th {\n",
       "        text-align: right;\n",
       "    }\n",
       "</style>\n",
       "<table border=\"1\" class=\"dataframe\">\n",
       "  <thead>\n",
       "    <tr style=\"text-align: right;\">\n",
       "      <th></th>\n",
       "      <th>Lokacija</th>\n",
       "      <th>Leto</th>\n",
       "      <th>Sobe</th>\n",
       "      <th>Kvadratura</th>\n",
       "      <th>Agencija</th>\n",
       "      <th>Cena</th>\n",
       "      <th>Cenovni_razred</th>\n",
       "    </tr>\n",
       "    <tr>\n",
       "      <th>Id</th>\n",
       "      <th></th>\n",
       "      <th></th>\n",
       "      <th></th>\n",
       "      <th></th>\n",
       "      <th></th>\n",
       "      <th></th>\n",
       "      <th></th>\n",
       "    </tr>\n",
       "  </thead>\n",
       "  <tbody>\n",
       "    <tr>\n",
       "      <td>6300324</td>\n",
       "      <td>SP. ŠIŠKA</td>\n",
       "      <td>2018</td>\n",
       "      <td>5.0</td>\n",
       "      <td>217.14</td>\n",
       "      <td>Stoja trade, d.o.o., Ljubljana</td>\n",
       "      <td>1790000.00</td>\n",
       "      <td>17</td>\n",
       "    </tr>\n",
       "    <tr>\n",
       "      <td>6261507</td>\n",
       "      <td>SP. ŠIŠKA</td>\n",
       "      <td>2018</td>\n",
       "      <td>5.0</td>\n",
       "      <td>217.14</td>\n",
       "      <td>Stoja trade, d.o.o., Ljubljana</td>\n",
       "      <td>1790000.00</td>\n",
       "      <td>17</td>\n",
       "    </tr>\n",
       "    <tr>\n",
       "      <td>6209551</td>\n",
       "      <td>STARA LJ., NOVO ŠTIRISOBNO STANOVANJE V CENTRU</td>\n",
       "      <td>2012</td>\n",
       "      <td>4.0</td>\n",
       "      <td>206.50</td>\n",
       "      <td>Mreža nepremičnin d.o.o.</td>\n",
       "      <td>1250000.00</td>\n",
       "      <td>12</td>\n",
       "    </tr>\n",
       "    <tr>\n",
       "      <td>6284304</td>\n",
       "      <td>LJ. CENTER</td>\n",
       "      <td>1896</td>\n",
       "      <td>5.0</td>\n",
       "      <td>330.70</td>\n",
       "      <td>Rocco nepremičnine d.o.o.</td>\n",
       "      <td>1200000.00</td>\n",
       "      <td>12</td>\n",
       "    </tr>\n",
       "    <tr>\n",
       "      <td>6227753</td>\n",
       "      <td>LJ. CENTER</td>\n",
       "      <td>1896</td>\n",
       "      <td>5.0</td>\n",
       "      <td>330.00</td>\n",
       "      <td>Vila Portorož d.o.o.</td>\n",
       "      <td>1200000.00</td>\n",
       "      <td>12</td>\n",
       "    </tr>\n",
       "    <tr>\n",
       "      <td>...</td>\n",
       "      <td>...</td>\n",
       "      <td>...</td>\n",
       "      <td>...</td>\n",
       "      <td>...</td>\n",
       "      <td>...</td>\n",
       "      <td>...</td>\n",
       "      <td>...</td>\n",
       "    </tr>\n",
       "    <tr>\n",
       "      <td>6291052</td>\n",
       "      <td>MURGLE</td>\n",
       "      <td>2020</td>\n",
       "      <td>4.0</td>\n",
       "      <td>109.55</td>\n",
       "      <td>Stoja trade, d.o.o., Ljubljana</td>\n",
       "      <td>504206.00</td>\n",
       "      <td>5</td>\n",
       "    </tr>\n",
       "    <tr>\n",
       "      <td>6281852</td>\n",
       "      <td>MURGLE, LJ.</td>\n",
       "      <td>2020</td>\n",
       "      <td>4.0</td>\n",
       "      <td>97.98</td>\n",
       "      <td>IMI Stil d.o.o.</td>\n",
       "      <td>504206.00</td>\n",
       "      <td>5</td>\n",
       "    </tr>\n",
       "    <tr>\n",
       "      <td>6264553</td>\n",
       "      <td>LJ. BEŽIGRAD</td>\n",
       "      <td>2014</td>\n",
       "      <td>4.0</td>\n",
       "      <td>105.35</td>\n",
       "      <td>Agencija Katja d.o.o.</td>\n",
       "      <td>500457.09</td>\n",
       "      <td>5</td>\n",
       "    </tr>\n",
       "    <tr>\n",
       "      <td>6206063</td>\n",
       "      <td>LJ. BEŽIGRAD</td>\n",
       "      <td>2014</td>\n",
       "      <td>4.0</td>\n",
       "      <td>105.35</td>\n",
       "      <td>LJUBLJANA NEPREMIČNINE d.o.o.</td>\n",
       "      <td>500457.00</td>\n",
       "      <td>5</td>\n",
       "    </tr>\n",
       "    <tr>\n",
       "      <td>6294661</td>\n",
       "      <td>LJ. CENTER, - NASPROTI DRAME</td>\n",
       "      <td>1895</td>\n",
       "      <td>5.0</td>\n",
       "      <td>135.00</td>\n",
       "      <td>KREATIVDOM d.o.o.</td>\n",
       "      <td>500000.00</td>\n",
       "      <td>5</td>\n",
       "    </tr>\n",
       "  </tbody>\n",
       "</table>\n",
       "<p>135 rows × 7 columns</p>\n",
       "</div>"
      ],
      "text/plain": [
       "                                               Lokacija  Leto  Sobe  \\\n",
       "Id                                                                    \n",
       "6300324                                       SP. ŠIŠKA  2018   5.0   \n",
       "6261507                                       SP. ŠIŠKA  2018   5.0   \n",
       "6209551  STARA LJ., NOVO ŠTIRISOBNO STANOVANJE V CENTRU  2012   4.0   \n",
       "6284304                                      LJ. CENTER  1896   5.0   \n",
       "6227753                                      LJ. CENTER  1896   5.0   \n",
       "...                                                 ...   ...   ...   \n",
       "6291052                                          MURGLE  2020   4.0   \n",
       "6281852                                     MURGLE, LJ.  2020   4.0   \n",
       "6264553                                    LJ. BEŽIGRAD  2014   4.0   \n",
       "6206063                                    LJ. BEŽIGRAD  2014   4.0   \n",
       "6294661                    LJ. CENTER, - NASPROTI DRAME  1895   5.0   \n",
       "\n",
       "         Kvadratura                        Agencija        Cena  \\\n",
       "Id                                                                \n",
       "6300324      217.14  Stoja trade, d.o.o., Ljubljana  1790000.00   \n",
       "6261507      217.14  Stoja trade, d.o.o., Ljubljana  1790000.00   \n",
       "6209551      206.50        Mreža nepremičnin d.o.o.  1250000.00   \n",
       "6284304      330.70       Rocco nepremičnine d.o.o.  1200000.00   \n",
       "6227753      330.00            Vila Portorož d.o.o.  1200000.00   \n",
       "...             ...                             ...         ...   \n",
       "6291052      109.55  Stoja trade, d.o.o., Ljubljana   504206.00   \n",
       "6281852       97.98                 IMI Stil d.o.o.   504206.00   \n",
       "6264553      105.35           Agencija Katja d.o.o.   500457.09   \n",
       "6206063      105.35   LJUBLJANA NEPREMIČNINE d.o.o.   500457.00   \n",
       "6294661      135.00               KREATIVDOM d.o.o.   500000.00   \n",
       "\n",
       "         Cenovni_razred  \n",
       "Id                       \n",
       "6300324              17  \n",
       "6261507              17  \n",
       "6209551              12  \n",
       "6284304              12  \n",
       "6227753              12  \n",
       "...                 ...  \n",
       "6291052               5  \n",
       "6281852               5  \n",
       "6264553               5  \n",
       "6206063               5  \n",
       "6294661               5  \n",
       "\n",
       "[135 rows x 7 columns]"
      ]
     },
     "execution_count": 21,
     "metadata": {},
     "output_type": "execute_result"
    }
   ],
   "source": [
    "visoke_cene = nepremicnine[nepremicnine.Cena >= 500000.00]\n",
    "visoke_cene.sort_values(['Cena'], ascending=False)"
   ]
  },
  {
   "cell_type": "code",
   "execution_count": 22,
   "metadata": {},
   "outputs": [
    {
     "data": {
      "text/plain": [
       "Lokacija\n",
       "LJ. CENTER      36\n",
       "LJ. BEŽIGRAD    14\n",
       "TRNOVO           9\n",
       "MURGLE           6\n",
       "MURGLE, LJ.      6\n",
       "dtype: int64"
      ]
     },
     "execution_count": 22,
     "metadata": {},
     "output_type": "execute_result"
    }
   ],
   "source": [
    "visoke_cene.groupby('Lokacija').size().nlargest(5)"
   ]
  },
  {
   "cell_type": "code",
   "execution_count": 23,
   "metadata": {},
   "outputs": [
    {
     "data": {
      "text/plain": [
       "<matplotlib.axes._subplots.AxesSubplot at 0x23b73590148>"
      ]
     },
     "execution_count": 23,
     "metadata": {},
     "output_type": "execute_result"
    },
    {
     "data": {
      "image/png": "[encoded data removed]",
      "text/plain": [
       "<Figure size 432x288 with 1 Axes>"
      ]
     },
     "metadata": {
      "needs_background": "light"
     },
     "output_type": "display_data"
    }
   ],
   "source": [
    "visoke_cene.groupby('Lokacija').size().nlargest(5).plot.bar()"
   ]
  },
  {
   "cell_type": "markdown",
   "metadata": {},
   "source": [
    "Moja hipoteza je potrjena. Center Ljubljane ima daleč največ dragih stanovanj, sedaj se bom omejil na nepremičnine zgrajene po letu 2000 in ponovno pogledal kakšna je statistika."
   ]
  },
  {
   "cell_type": "code",
   "execution_count": 24,
   "metadata": {},
   "outputs": [
    {
     "data": {
      "text/plain": [
       "Lokacija\n",
       "LJ. BEŽIGRAD    13\n",
       "LJ. CENTER      13\n",
       "TRNOVO           9\n",
       "MURGLE           6\n",
       "MURGLE, LJ.      6\n",
       "dtype: int64"
      ]
     },
     "execution_count": 24,
     "metadata": {},
     "output_type": "execute_result"
    }
   ],
   "source": [
    "visoke_cene = nepremicnine[(nepremicnine.Leto >= 2000) & (nepremicnine.Cena >= 500000.00)]\n",
    "visoke_cene.sort_values(['Cena'], ascending=False).groupby('Lokacija').size().nlargest(5)"
   ]
  },
  {
   "cell_type": "code",
   "execution_count": 25,
   "metadata": {},
   "outputs": [
    {
     "data": {
      "text/plain": [
       "<matplotlib.axes._subplots.AxesSubplot at 0x23b73607048>"
      ]
     },
     "execution_count": 25,
     "metadata": {},
     "output_type": "execute_result"
    },
    {
     "data": {
      "image/png": "[encoded data removed]",
      "text/plain": [
       "<Figure size 432x288 with 1 Axes>"
      ]
     },
     "metadata": {
      "needs_background": "light"
     },
     "output_type": "display_data"
    }
   ],
   "source": [
    "visoke_cene.sort_values(['Cena'], ascending=False).groupby('Lokacija').size().nlargest(5).plot.bar()"
   ]
  },
  {
   "cell_type": "markdown",
   "metadata": {},
   "source": [
    "Tudi to je moja hipoteza potrjena. Menim, da je hipoteza bila smiselna, saj v centru ni več prostora za nova stanovanja. Zato so novogradnje nasploh bolj porazdeljene izven centrov mest. Poleg tega ima center kulturno in zgodovinsko pomembnost in je to še en dejavnik, ki mi da misliti, da bodo novejše gradnje v predelih mesta blizu centra."
   ]
  },
  {
   "cell_type": "markdown",
   "metadata": {},
   "source": [
    "# Cenovni razredi nepremičnin\n",
    "\n",
    "Preveriti želim koliko nepremicnin pade v določen cenovni razred.\n",
    "Cenovne razrede si bom razdelil po inkrementih 100000 €, tiste ki stanejo manj pa bom razdelil še na razrede po 10000€. To mi tudi nudi podatke za ustrezen prikaz porazadelitve cen, saj bi bilo, z do sedaj neobdelanimi podatki, veliko težje delati. Namreč ne morem dosežti nekega prikaza s konkretnimi cenami, ker je podatek koliko je stanovanj točno določene cene praktično neuporaben.\n",
    "\n",
    "Predvidevam, da bo večino nepremičnin cenovno padlo pod nekje pod 400000€."
   ]
  },
  {
   "cell_type": "code",
   "execution_count": 160,
   "metadata": {
    "scrolled": true
   },
   "outputs": [
    {
     "data": {
      "text/plain": [
       "Cenovni_razred\n",
       "1      27\n",
       "2     643\n",
       "3     437\n",
       "4     191\n",
       "5     115\n",
       "6      40\n",
       "7      40\n",
       "8      27\n",
       "9      17\n",
       "10      4\n",
       "11      2\n",
       "13      3\n",
       "18      2\n",
       "dtype: int64"
      ]
     },
     "execution_count": 160,
     "metadata": {},
     "output_type": "execute_result"
    }
   ],
   "source": [
    "nepremicnine['Cenovni_razred'] = (nepremicnine.Cena // 100000 + 1).apply(int)\n",
    "nepremicnine_po_ceni = nepremicnine[nepremicnine.Cenovni_razred != 0]\n",
    "nepremicnine_po_ceni.groupby('Cenovni_razred').size()"
   ]
  },
  {
   "cell_type": "code",
   "execution_count": 161,
   "metadata": {
    "scrolled": true
   },
   "outputs": [
    {
     "data": {
      "text/plain": [
       "<matplotlib.axes._subplots.AxesSubplot at 0x23b76345bc8>"
      ]
     },
     "execution_count": 161,
     "metadata": {},
     "output_type": "execute_result"
    },
    {
     "data": {
      "image/png": "[encoded data removed]",
      "text/plain": [
       "<Figure size 432x288 with 1 Axes>"
      ]
     },
     "metadata": {
      "needs_background": "light"
     },
     "output_type": "display_data"
    }
   ],
   "source": [
    "nepremicnine_po_ceni.groupby('Cenovni_razred').size().plot.bar()"
   ]
  },
  {
   "cell_type": "markdown",
   "metadata": {},
   "source": [
    "Vidimo, da so cene zelo neenakomerno porazdeljene, kar je bilo pričakovano. Moja hipoteza pa je tudi skladna z ugotovitvijo.\n",
    "Zavedam se, da je v Ljubljani veliko stanovanj in študentskih domov, ki se oddajajo konstantno. Zaradi tega sem, kljub vsemu\n",
    "pričakoval veliko večje število nepremičnin, ki bi padle v prvi razred.\n",
    "\n",
    "Nepremičnine, ki stanejo pod 100000€ bi sedaj rad razdelil še na cenovne razrede po 10000€ in pogledal koliko je takih,\n",
    "tu se bo morda na podlagi mojega prejšnjega sklepa pokazalo rahlo večje število nizkocenovnih nepremičnin (pod 10000€)."
   ]
  },
  {
   "cell_type": "code",
   "execution_count": 162,
   "metadata": {},
   "outputs": [
    {
     "name": "stderr",
     "output_type": "stream",
     "text": [
      "C:\\Anaconda3\\lib\\site-packages\\ipykernel_launcher.py:2: SettingWithCopyWarning: \n",
      "A value is trying to be set on a copy of a slice from a DataFrame.\n",
      "Try using .loc[row_indexer,col_indexer] = value instead\n",
      "\n",
      "See the caveats in the documentation: http://pandas.pydata.org/pandas-docs/stable/user_guide/indexing.html#returning-a-view-versus-a-copy\n",
      "  \n"
     ]
    },
    {
     "data": {
      "text/plain": [
       "<matplotlib.axes._subplots.AxesSubplot at 0x23b775e4748>"
      ]
     },
     "execution_count": 162,
     "metadata": {},
     "output_type": "execute_result"
    },
    {
     "data": {
      "image/png": "[encoded data removed]",
      "text/plain": [
       "<Figure size 432x288 with 1 Axes>"
      ]
     },
     "metadata": {
      "needs_background": "light"
     },
     "output_type": "display_data"
    }
   ],
   "source": [
    "cenejse_nepremicnine = nepremicnine[nepremicnine.Cenovni_razred == 1]\n",
    "cenejse_nepremicnine['Cenovni_razred2'] = (nepremicnine.Cena // 10000 + 1).apply(int)\n",
    "cenejse_nepremicnine.groupby('Cenovni_razred2').size().plot.bar()"
   ]
  },
  {
   "cell_type": "markdown",
   "metadata": {},
   "source": [
    "# Porazdelitev cen po regijah"
   ]
  },
  {
   "cell_type": "markdown",
   "metadata": {},
   "source": [
    "Sedaj bi ta podatek rad uporabil, da vidim kakšna je porazdelitev cen glede na lokacijo. Vendar problem se pojavi ker je\n",
    "število lokacij izredno veliko, zato se bom omejil le na vnose, ki imajo v imenu kraja neko večje Ljubljansko območje in\n",
    "na podlagi cenovnih razredov ter cene ocenil, koliko vredne nepremičnine so na voljo v določeni regiji.\n",
    "\n",
    "Območja, ki jih bom obravnaval so: Center, Bežigrad, Trnovo, Vič, Šiška, Črnuče, Rudnik, Moste, Vižmarje, Rožna dolina, "
   ]
  },
  {
   "cell_type": "code",
   "execution_count": 113,
   "metadata": {},
   "outputs": [
    {
     "data": {
      "text/html": [
       "<div>\n",
       "<style scoped>\n",
       "    .dataframe tbody tr th:only-of-type {\n",
       "        vertical-align: middle;\n",
       "    }\n",
       "\n",
       "    .dataframe tbody tr th {\n",
       "        vertical-align: top;\n",
       "    }\n",
       "\n",
       "    .dataframe thead th {\n",
       "        text-align: right;\n",
       "    }\n",
       "</style>\n",
       "<table border=\"1\" class=\"dataframe\">\n",
       "  <thead>\n",
       "    <tr style=\"text-align: right;\">\n",
       "      <th></th>\n",
       "      <th>Lokacija</th>\n",
       "      <th>Leto</th>\n",
       "      <th>Sobe</th>\n",
       "      <th>Kvadratura</th>\n",
       "      <th>Agencija</th>\n",
       "      <th>Cena</th>\n",
       "      <th>Cenovni_razred</th>\n",
       "      <th>Povprecen_kvadraten_meter</th>\n",
       "    </tr>\n",
       "    <tr>\n",
       "      <th>Id</th>\n",
       "      <th></th>\n",
       "      <th></th>\n",
       "      <th></th>\n",
       "      <th></th>\n",
       "      <th></th>\n",
       "      <th></th>\n",
       "      <th></th>\n",
       "      <th></th>\n",
       "    </tr>\n",
       "  </thead>\n",
       "  <tbody>\n",
       "    <tr>\n",
       "      <td>5610162</td>\n",
       "      <td>LJ. CENTER, MESTNI TRG</td>\n",
       "      <td>1459</td>\n",
       "      <td>2.5</td>\n",
       "      <td>86.00</td>\n",
       "      <td>Komfort skupina d.o.o., nepremičnine</td>\n",
       "      <td>288000.00</td>\n",
       "      <td>3</td>\n",
       "      <td>3348.84</td>\n",
       "    </tr>\n",
       "    <tr>\n",
       "      <td>5867227</td>\n",
       "      <td>LJ. VIČ, CESTA NA BRDO</td>\n",
       "      <td>2011</td>\n",
       "      <td>3.0</td>\n",
       "      <td>197.39</td>\n",
       "      <td>Zasebna ponudba</td>\n",
       "      <td>349900.00</td>\n",
       "      <td>4</td>\n",
       "      <td>1772.63</td>\n",
       "    </tr>\n",
       "    <tr>\n",
       "      <td>5893832</td>\n",
       "      <td>LJ. BEŽIGRAD</td>\n",
       "      <td>2014</td>\n",
       "      <td>4.0</td>\n",
       "      <td>105.18</td>\n",
       "      <td>Eko srebrna hiša d.o.o.</td>\n",
       "      <td>466688.74</td>\n",
       "      <td>5</td>\n",
       "      <td>4437.05</td>\n",
       "    </tr>\n",
       "    <tr>\n",
       "      <td>5893834</td>\n",
       "      <td>LJ. BEŽIGRAD</td>\n",
       "      <td>2014</td>\n",
       "      <td>4.0</td>\n",
       "      <td>150.91</td>\n",
       "      <td>Eko srebrna hiša d.o.o.</td>\n",
       "      <td>638726.62</td>\n",
       "      <td>7</td>\n",
       "      <td>4232.50</td>\n",
       "    </tr>\n",
       "    <tr>\n",
       "      <td>5896102</td>\n",
       "      <td>LJ. BEŽIGRAD</td>\n",
       "      <td>2014</td>\n",
       "      <td>3.0</td>\n",
       "      <td>90.43</td>\n",
       "      <td>Eko srebrna hiša d.o.o.</td>\n",
       "      <td>390647.08</td>\n",
       "      <td>4</td>\n",
       "      <td>4319.88</td>\n",
       "    </tr>\n",
       "    <tr>\n",
       "      <td>...</td>\n",
       "      <td>...</td>\n",
       "      <td>...</td>\n",
       "      <td>...</td>\n",
       "      <td>...</td>\n",
       "      <td>...</td>\n",
       "      <td>...</td>\n",
       "      <td>...</td>\n",
       "      <td>...</td>\n",
       "    </tr>\n",
       "    <tr>\n",
       "      <td>6303210</td>\n",
       "      <td>LJ. ŠIŠKA</td>\n",
       "      <td>1964</td>\n",
       "      <td>3.0</td>\n",
       "      <td>69.40</td>\n",
       "      <td>MESTO NEPREMIČNIN d.o.o.</td>\n",
       "      <td>174000.00</td>\n",
       "      <td>2</td>\n",
       "      <td>2507.20</td>\n",
       "    </tr>\n",
       "    <tr>\n",
       "      <td>6303211</td>\n",
       "      <td>LJ. CENTER, BETETHOVNOVA ULICA</td>\n",
       "      <td>1924</td>\n",
       "      <td>4.0</td>\n",
       "      <td>142.50</td>\n",
       "      <td>Nepremičnine Plus d.o.o.</td>\n",
       "      <td>535000.00</td>\n",
       "      <td>6</td>\n",
       "      <td>3754.39</td>\n",
       "    </tr>\n",
       "    <tr>\n",
       "      <td>6303228</td>\n",
       "      <td>FUŽINE</td>\n",
       "      <td>1985</td>\n",
       "      <td>4.0</td>\n",
       "      <td>99.00</td>\n",
       "      <td>STAN nepremičnine d.o.o., Ljubljana</td>\n",
       "      <td>250000.00</td>\n",
       "      <td>3</td>\n",
       "      <td>2525.25</td>\n",
       "    </tr>\n",
       "    <tr>\n",
       "      <td>6303233</td>\n",
       "      <td>LJ. MOSTE</td>\n",
       "      <td>1843</td>\n",
       "      <td>2.0</td>\n",
       "      <td>54.00</td>\n",
       "      <td>DVOREC POSREDNIŠKA HIŠA d.o.o.</td>\n",
       "      <td>119900.00</td>\n",
       "      <td>2</td>\n",
       "      <td>2220.37</td>\n",
       "    </tr>\n",
       "    <tr>\n",
       "      <td>6303244</td>\n",
       "      <td>LJ. CENTER</td>\n",
       "      <td>1845</td>\n",
       "      <td>3.0</td>\n",
       "      <td>75.00</td>\n",
       "      <td>LJUBLJANA NEPREMIČNINE d.o.o.</td>\n",
       "      <td>275000.00</td>\n",
       "      <td>3</td>\n",
       "      <td>3666.67</td>\n",
       "    </tr>\n",
       "  </tbody>\n",
       "</table>\n",
       "<p>1548 rows × 8 columns</p>\n",
       "</div>"
      ],
      "text/plain": [
       "                               Lokacija  Leto  Sobe  Kvadratura  \\\n",
       "Id                                                                \n",
       "5610162          LJ. CENTER, MESTNI TRG  1459   2.5       86.00   \n",
       "5867227          LJ. VIČ, CESTA NA BRDO  2011   3.0      197.39   \n",
       "5893832                    LJ. BEŽIGRAD  2014   4.0      105.18   \n",
       "5893834                    LJ. BEŽIGRAD  2014   4.0      150.91   \n",
       "5896102                    LJ. BEŽIGRAD  2014   3.0       90.43   \n",
       "...                                 ...   ...   ...         ...   \n",
       "6303210                       LJ. ŠIŠKA  1964   3.0       69.40   \n",
       "6303211  LJ. CENTER, BETETHOVNOVA ULICA  1924   4.0      142.50   \n",
       "6303228                          FUŽINE  1985   4.0       99.00   \n",
       "6303233                       LJ. MOSTE  1843   2.0       54.00   \n",
       "6303244                      LJ. CENTER  1845   3.0       75.00   \n",
       "\n",
       "                                     Agencija       Cena  Cenovni_razred  \\\n",
       "Id                                                                         \n",
       "5610162  Komfort skupina d.o.o., nepremičnine  288000.00               3   \n",
       "5867227                       Zasebna ponudba  349900.00               4   \n",
       "5893832               Eko srebrna hiša d.o.o.  466688.74               5   \n",
       "5893834               Eko srebrna hiša d.o.o.  638726.62               7   \n",
       "5896102               Eko srebrna hiša d.o.o.  390647.08               4   \n",
       "...                                       ...        ...             ...   \n",
       "6303210              MESTO NEPREMIČNIN d.o.o.  174000.00               2   \n",
       "6303211              Nepremičnine Plus d.o.o.  535000.00               6   \n",
       "6303228   STAN nepremičnine d.o.o., Ljubljana  250000.00               3   \n",
       "6303233        DVOREC POSREDNIŠKA HIŠA d.o.o.  119900.00               2   \n",
       "6303244         LJUBLJANA NEPREMIČNINE d.o.o.  275000.00               3   \n",
       "\n",
       "         Povprecen_kvadraten_meter  \n",
       "Id                                  \n",
       "5610162                    3348.84  \n",
       "5867227                    1772.63  \n",
       "5893832                    4437.05  \n",
       "5893834                    4232.50  \n",
       "5896102                    4319.88  \n",
       "...                            ...  \n",
       "6303210                    2507.20  \n",
       "6303211                    3754.39  \n",
       "6303228                    2525.25  \n",
       "6303233                    2220.37  \n",
       "6303244                    3666.67  \n",
       "\n",
       "[1548 rows x 8 columns]"
      ]
     },
     "execution_count": 113,
     "metadata": {},
     "output_type": "execute_result"
    }
   ],
   "source": [
    "nepremicnine"
   ]
  },
  {
   "cell_type": "code",
   "execution_count": 148,
   "metadata": {},
   "outputs": [],
   "source": [
    "nepremicnine['Regija'] = 'Ostalo'\n",
    "nepremicnine['Regija'].loc[nepremicnine['Lokacija'].str.match('.*CENTER.*')] = 'Center'\n",
    "nepremicnine['Regija'].loc[nepremicnine['Lokacija'].str.match('.*BEŽIGRAD.*')] = 'Bežigrad'\n",
    "nepremicnine['Regija'].loc[nepremicnine['Lokacija'].str.match('.*TRNOVO.*')] = 'Trnovo'\n",
    "nepremicnine['Regija'].loc[nepremicnine['Lokacija'].str.match('.*VIČ.*')] = 'Vič'\n",
    "nepremicnine['Regija'].loc[nepremicnine['Lokacija'].str.match('.*ŠIŠKA.*')] = 'Šiška'\n",
    "nepremicnine['Regija'].loc[nepremicnine['Lokacija'].str.match('.*ČRNUČE.*')] = 'Črnuče'\n",
    "nepremicnine['Regija'].loc[nepremicnine['Lokacija'].str.match('.*RUDNIK.*')] = 'Rudnik'\n",
    "nepremicnine['Regija'].loc[nepremicnine['Lokacija'].str.match('.*VIŽMARJE.*')] = 'Vižmarje'\n",
    "nepremicnine['Regija'].loc[nepremicnine['Lokacija'].str.match('.*ROŽNA DOLINA.*')] = 'Rožna'\n",
    "\n",
    "nepremicnine\n",
    "regije = nepremicnine.groupby('Regija')"
   ]
  },
  {
   "cell_type": "code",
   "execution_count": 146,
   "metadata": {},
   "outputs": [
    {
     "data": {
      "text/plain": [
       "Regija\n",
       "Bežigrad    238\n",
       "Center      361\n",
       "Ostalo      451\n",
       "Rožna        24\n",
       "Rudnik       35\n",
       "Trnovo       35\n",
       "Vič         111\n",
       "Vižmarje     11\n",
       "Črnuče       30\n",
       "Šiška       252\n",
       "Name: Lokacija, dtype: int64"
      ]
     },
     "execution_count": 146,
     "metadata": {},
     "output_type": "execute_result"
    }
   ],
   "source": [
    "regije.Lokacija.count()"
   ]
  },
  {
   "cell_type": "markdown",
   "metadata": {},
   "source": [
    "Če ignoriram regije, ki jih nisem obravnaval se vidi da je v centru tudi nakopičeno največ nepremičnin, ki so naprodaj.\n",
    "Poglejmo še skupne cene nepremičnin po regijah, nato pa bom naredil oceno, kje je nekako najbolj drago povprečno stanovanje."
   ]
  },
  {
   "cell_type": "code",
   "execution_count": 147,
   "metadata": {},
   "outputs": [
    {
     "data": {
      "text/plain": [
       "Regija\n",
       "Bežigrad    6.188715e+07\n",
       "Center      1.324923e+08\n",
       "Ostalo      1.088218e+08\n",
       "Rožna       1.086118e+07\n",
       "Rudnik      7.046890e+06\n",
       "Trnovo      1.554500e+07\n",
       "Vič         2.752751e+07\n",
       "Vižmarje    1.729746e+06\n",
       "Črnuče      6.238164e+06\n",
       "Šiška       5.420039e+07\n",
       "Name: Cena, dtype: float64"
      ]
     },
     "execution_count": 147,
     "metadata": {},
     "output_type": "execute_result"
    }
   ],
   "source": [
    "regije.Cena.sum()"
   ]
  },
  {
   "cell_type": "markdown",
   "metadata": {},
   "source": [
    "Ponovno vidimo, da je center najbolj draga regija glede skupne vrednosti nepremičnin. Vendar pa je ta podatek še nekoliko bolj\n",
    "natančen, saj pri prvi oceni nisem upošteval morebitne drugačne naslove lokacij, ki bi se še vedno nahajale v centru pod \n",
    "rahlo drugačnim imenom."
   ]
  },
  {
   "cell_type": "code",
   "execution_count": 144,
   "metadata": {},
   "outputs": [
    {
     "data": {
      "text/plain": [
       "<matplotlib.axes._subplots.AxesSubplot at 0x23b774dbb88>"
      ]
     },
     "execution_count": 144,
     "metadata": {},
     "output_type": "execute_result"
    },
    {
     "data": {
      "image/png": "[encoded data removed]",
      "text/plain": [
       "<Figure size 432x288 with 1 Axes>"
      ]
     },
     "metadata": {
      "needs_background": "light"
     },
     "output_type": "display_data"
    }
   ],
   "source": [
    "(regije.Cena.sum() // regije.Lokacija.count()).plot.bar()"
   ]
  },
  {
   "cell_type": "markdown",
   "metadata": {},
   "source": [
    "Graf nam pove, da je rožna dolina nekako najbolj gosta glede cene na napremičnino."
   ]
  },
  {
   "cell_type": "markdown",
   "metadata": {},
   "source": [
    "# Procenti premoženja skozi vse večje regije"
   ]
  },
  {
   "cell_type": "markdown",
   "metadata": {},
   "source": [
    "Izrisal bom graf, ki prikazuje kakšen procent skupne cene vseh nepremičnin po vseh večjih regijah ima posamezna regija"
   ]
  },
  {
   "cell_type": "code",
   "execution_count": 169,
   "metadata": {},
   "outputs": [],
   "source": [
    "skupna_cena = regije.Cena.sum().sum().round(2)"
   ]
  },
  {
   "cell_type": "code",
   "execution_count": 170,
   "metadata": {},
   "outputs": [
    {
     "data": {
      "text/plain": [
       "<matplotlib.axes._subplots.AxesSubplot at 0x23b6be5ae48>"
      ]
     },
     "execution_count": 170,
     "metadata": {},
     "output_type": "execute_result"
    },
    {
     "data": {
      "image/png": "[encoded data removed]",
      "text/plain": [
       "<Figure size 432x288 with 1 Axes>"
      ]
     },
     "metadata": {
      "needs_background": "light"
     },
     "output_type": "display_data"
    }
   ],
   "source": [
    "(regije.Cena.sum() / skupna_cena).plot.bar()"
   ]
  },
  {
   "cell_type": "markdown",
   "metadata": {},
   "source": [
    "# Povprečna cena vseh stanovanj"
   ]
  },
  {
   "cell_type": "code",
   "execution_count": 11,
   "metadata": {},
   "outputs": [
    {
     "data": {
      "text/plain": [
       "275419.99"
      ]
     },
     "execution_count": 11,
     "metadata": {},
     "output_type": "execute_result"
    }
   ],
   "source": [
    "round(nepremicnine.Cena.mean(), 2)"
   ]
  },
  {
   "cell_type": "markdown",
   "metadata": {},
   "source": [
    "# Kako parametri vplivajo na ceno?\n",
    "\n",
    "Sedaj bi rad imel nek kvantitativen opis tega kaj je tisto kar zares vpliva na ceno stanovanja. Moja hipoteza je, da je to lokacija ter takoj za tem število sob oz. kvadratura. Tu bom seveda obravnaval vse podatke in ne le tiste, zgrajene po letu 2000."
   ]
  },
  {
   "cell_type": "code",
   "execution_count": 77,
   "metadata": {},
   "outputs": [
    {
     "data": {
      "text/html": [
       "<div>\n",
       "<style scoped>\n",
       "    .dataframe tbody tr th:only-of-type {\n",
       "        vertical-align: middle;\n",
       "    }\n",
       "\n",
       "    .dataframe tbody tr th {\n",
       "        vertical-align: top;\n",
       "    }\n",
       "\n",
       "    .dataframe thead th {\n",
       "        text-align: right;\n",
       "    }\n",
       "</style>\n",
       "<table border=\"1\" class=\"dataframe\">\n",
       "  <thead>\n",
       "    <tr style=\"text-align: right;\">\n",
       "      <th></th>\n",
       "      <th>Lokacija</th>\n",
       "      <th>Leto</th>\n",
       "      <th>Sobe</th>\n",
       "      <th>Kvadratura</th>\n",
       "      <th>Agencija</th>\n",
       "      <th>Cena</th>\n",
       "      <th>Cenovni_razred</th>\n",
       "    </tr>\n",
       "    <tr>\n",
       "      <th>Id</th>\n",
       "      <th></th>\n",
       "      <th></th>\n",
       "      <th></th>\n",
       "      <th></th>\n",
       "      <th></th>\n",
       "      <th></th>\n",
       "      <th></th>\n",
       "    </tr>\n",
       "  </thead>\n",
       "  <tbody>\n",
       "    <tr>\n",
       "      <td>5610162</td>\n",
       "      <td>LJ. CENTER, MESTNI TRG</td>\n",
       "      <td>1459</td>\n",
       "      <td>2.5</td>\n",
       "      <td>86.00</td>\n",
       "      <td>Komfort skupina d.o.o., nepremičnine</td>\n",
       "      <td>288000.00</td>\n",
       "      <td>200000</td>\n",
       "    </tr>\n",
       "    <tr>\n",
       "      <td>5867227</td>\n",
       "      <td>LJ. VIČ, CESTA NA BRDO</td>\n",
       "      <td>2011</td>\n",
       "      <td>3.0</td>\n",
       "      <td>197.39</td>\n",
       "      <td>Zasebna ponudba</td>\n",
       "      <td>349900.00</td>\n",
       "      <td>300000</td>\n",
       "    </tr>\n",
       "    <tr>\n",
       "      <td>5893832</td>\n",
       "      <td>LJ. BEŽIGRAD</td>\n",
       "      <td>2014</td>\n",
       "      <td>4.0</td>\n",
       "      <td>105.18</td>\n",
       "      <td>Eko srebrna hiša d.o.o.</td>\n",
       "      <td>466688.74</td>\n",
       "      <td>400000</td>\n",
       "    </tr>\n",
       "    <tr>\n",
       "      <td>5893834</td>\n",
       "      <td>LJ. BEŽIGRAD</td>\n",
       "      <td>2014</td>\n",
       "      <td>4.0</td>\n",
       "      <td>150.91</td>\n",
       "      <td>Eko srebrna hiša d.o.o.</td>\n",
       "      <td>638726.62</td>\n",
       "      <td>600000</td>\n",
       "    </tr>\n",
       "    <tr>\n",
       "      <td>5896102</td>\n",
       "      <td>LJ. BEŽIGRAD</td>\n",
       "      <td>2014</td>\n",
       "      <td>3.0</td>\n",
       "      <td>90.43</td>\n",
       "      <td>Eko srebrna hiša d.o.o.</td>\n",
       "      <td>390647.08</td>\n",
       "      <td>300000</td>\n",
       "    </tr>\n",
       "    <tr>\n",
       "      <td>...</td>\n",
       "      <td>...</td>\n",
       "      <td>...</td>\n",
       "      <td>...</td>\n",
       "      <td>...</td>\n",
       "      <td>...</td>\n",
       "      <td>...</td>\n",
       "      <td>...</td>\n",
       "    </tr>\n",
       "    <tr>\n",
       "      <td>6303210</td>\n",
       "      <td>LJ. ŠIŠKA</td>\n",
       "      <td>1964</td>\n",
       "      <td>3.0</td>\n",
       "      <td>69.40</td>\n",
       "      <td>MESTO NEPREMIČNIN d.o.o.</td>\n",
       "      <td>174000.00</td>\n",
       "      <td>100000</td>\n",
       "    </tr>\n",
       "    <tr>\n",
       "      <td>6303211</td>\n",
       "      <td>LJ. CENTER, BETETHOVNOVA ULICA</td>\n",
       "      <td>1924</td>\n",
       "      <td>4.0</td>\n",
       "      <td>142.50</td>\n",
       "      <td>Nepremičnine Plus d.o.o.</td>\n",
       "      <td>535000.00</td>\n",
       "      <td>500000</td>\n",
       "    </tr>\n",
       "    <tr>\n",
       "      <td>6303228</td>\n",
       "      <td>FUŽINE</td>\n",
       "      <td>1985</td>\n",
       "      <td>4.0</td>\n",
       "      <td>99.00</td>\n",
       "      <td>STAN nepremičnine d.o.o., Ljubljana</td>\n",
       "      <td>250000.00</td>\n",
       "      <td>200000</td>\n",
       "    </tr>\n",
       "    <tr>\n",
       "      <td>6303233</td>\n",
       "      <td>LJ. MOSTE</td>\n",
       "      <td>1843</td>\n",
       "      <td>2.0</td>\n",
       "      <td>54.00</td>\n",
       "      <td>DVOREC POSREDNIŠKA HIŠA d.o.o.</td>\n",
       "      <td>119900.00</td>\n",
       "      <td>100000</td>\n",
       "    </tr>\n",
       "    <tr>\n",
       "      <td>6303244</td>\n",
       "      <td>LJ. CENTER</td>\n",
       "      <td>1845</td>\n",
       "      <td>3.0</td>\n",
       "      <td>75.00</td>\n",
       "      <td>LJUBLJANA NEPREMIČNINE d.o.o.</td>\n",
       "      <td>275000.00</td>\n",
       "      <td>200000</td>\n",
       "    </tr>\n",
       "  </tbody>\n",
       "</table>\n",
       "<p>1548 rows × 7 columns</p>\n",
       "</div>"
      ],
      "text/plain": [
       "                               Lokacija  Leto  Sobe  Kvadratura  \\\n",
       "Id                                                                \n",
       "5610162          LJ. CENTER, MESTNI TRG  1459   2.5       86.00   \n",
       "5867227          LJ. VIČ, CESTA NA BRDO  2011   3.0      197.39   \n",
       "5893832                    LJ. BEŽIGRAD  2014   4.0      105.18   \n",
       "5893834                    LJ. BEŽIGRAD  2014   4.0      150.91   \n",
       "5896102                    LJ. BEŽIGRAD  2014   3.0       90.43   \n",
       "...                                 ...   ...   ...         ...   \n",
       "6303210                       LJ. ŠIŠKA  1964   3.0       69.40   \n",
       "6303211  LJ. CENTER, BETETHOVNOVA ULICA  1924   4.0      142.50   \n",
       "6303228                          FUŽINE  1985   4.0       99.00   \n",
       "6303233                       LJ. MOSTE  1843   2.0       54.00   \n",
       "6303244                      LJ. CENTER  1845   3.0       75.00   \n",
       "\n",
       "                                     Agencija       Cena  Cenovni_razred  \n",
       "Id                                                                        \n",
       "5610162  Komfort skupina d.o.o., nepremičnine  288000.00          200000  \n",
       "5867227                       Zasebna ponudba  349900.00          300000  \n",
       "5893832               Eko srebrna hiša d.o.o.  466688.74          400000  \n",
       "5893834               Eko srebrna hiša d.o.o.  638726.62          600000  \n",
       "5896102               Eko srebrna hiša d.o.o.  390647.08          300000  \n",
       "...                                       ...        ...             ...  \n",
       "6303210              MESTO NEPREMIČNIN d.o.o.  174000.00          100000  \n",
       "6303211              Nepremičnine Plus d.o.o.  535000.00          500000  \n",
       "6303228   STAN nepremičnine d.o.o., Ljubljana  250000.00          200000  \n",
       "6303233        DVOREC POSREDNIŠKA HIŠA d.o.o.  119900.00          100000  \n",
       "6303244         LJUBLJANA NEPREMIČNINE d.o.o.  275000.00          200000  \n",
       "\n",
       "[1548 rows x 7 columns]"
      ]
     },
     "execution_count": 77,
     "metadata": {},
     "output_type": "execute_result"
    }
   ],
   "source": [
    "nepremicnine"
   ]
  },
  {
   "cell_type": "code",
   "execution_count": 78,
   "metadata": {},
   "outputs": [
    {
     "data": {
      "text/plain": [
       "<matplotlib.axes._subplots.AxesSubplot at 0x274edd86208>"
      ]
     },
     "execution_count": 78,
     "metadata": {},
     "output_type": "execute_result"
    },
    {
     "data": {
      "image/png": "[encoded data removed]",
      "text/plain": [
       "<Figure size 432x288 with 1 Axes>"
      ]
     },
     "metadata": {
      "needs_background": "light"
     },
     "output_type": "display_data"
    }
   ],
   "source": [
    "nepremicnine.plot.scatter('Kvadratura', 'Cena')"
   ]
  },
  {
   "cell_type": "code",
   "execution_count": 85,
   "metadata": {},
   "outputs": [
    {
     "data": {
      "text/plain": [
       "<matplotlib.axes._subplots.AxesSubplot at 0x274f608f488>"
      ]
     },
     "execution_count": 85,
     "metadata": {},
     "output_type": "execute_result"
    },
    {
     "data": {
      "image/png": "[encoded data removed]",
      "text/plain": [
       "<Figure size 432x288 with 1 Axes>"
      ]
     },
     "metadata": {
      "needs_background": "light"
     },
     "output_type": "display_data"
    }
   ],
   "source": [
    "nepremicnine.groupby('Sobe').Cena.mean().plot.bar('Sobe', 'Cena')"
   ]
  },
  {
   "cell_type": "markdown",
   "metadata": {},
   "source": [
    "# Katera agencija bi zaslužila največ, če bi prodala vsa svoja stanovanja?"
   ]
  },
  {
   "cell_type": "code",
   "execution_count": 18,
   "metadata": {},
   "outputs": [
    {
     "data": {
      "text/plain": [
       "Agencija\n",
       "Stoja trade, d.o.o., Ljubljana                 43017217.16\n",
       "MESTO NEPREMIČNIN d.o.o.                       28393021.00\n",
       "LJUBLJANA NEPREMIČNINE d.o.o.                  25712021.00\n",
       "Rocco nepremičnine d.o.o.                      20333636.24\n",
       "RCN d.o.o.                                     19188862.35\n",
       "Mreža nepremičnin d.o.o.                       15200006.00\n",
       "ZWELO online nepremičninske storitve d.o.o.    13466900.00\n",
       "GB nepremičnine, Goran Barišić s.p.            11023273.77\n",
       "STAN nepremičnine d.o.o., Ljubljana            10605900.00\n",
       "KREATIVDOM d.o.o.                               9064900.00\n",
       "Name: Cena, dtype: float64"
      ]
     },
     "execution_count": 18,
     "metadata": {},
     "output_type": "execute_result"
    }
   ],
   "source": [
    "nepremicnine_od_agencij = nepremicnine[nepremicnine.Agencija != \"Zasebna ponudba\"]\n",
    "nepremicnine_od_agencij.groupby(\"Agencija\").Cena.sum().nlargest(10)"
   ]
  },
  {
   "cell_type": "markdown",
   "metadata": {},
   "source": [
    "# Povprečna cena kvadratnega metra v Ljubljani"
   ]
  },
  {
   "cell_type": "code",
   "execution_count": 19,
   "metadata": {},
   "outputs": [
    {
     "data": {
      "text/html": [
       "<div>\n",
       "<style scoped>\n",
       "    .dataframe tbody tr th:only-of-type {\n",
       "        vertical-align: middle;\n",
       "    }\n",
       "\n",
       "    .dataframe tbody tr th {\n",
       "        vertical-align: top;\n",
       "    }\n",
       "\n",
       "    .dataframe thead th {\n",
       "        text-align: right;\n",
       "    }\n",
       "</style>\n",
       "<table border=\"1\" class=\"dataframe\">\n",
       "  <thead>\n",
       "    <tr style=\"text-align: right;\">\n",
       "      <th></th>\n",
       "      <th>Lokacija</th>\n",
       "      <th>Leto</th>\n",
       "      <th>Sobe</th>\n",
       "      <th>Kvadratura</th>\n",
       "      <th>Agencija</th>\n",
       "      <th>Cena</th>\n",
       "      <th>Cenovni_razred</th>\n",
       "    </tr>\n",
       "    <tr>\n",
       "      <th>Id</th>\n",
       "      <th></th>\n",
       "      <th></th>\n",
       "      <th></th>\n",
       "      <th></th>\n",
       "      <th></th>\n",
       "      <th></th>\n",
       "      <th></th>\n",
       "    </tr>\n",
       "  </thead>\n",
       "  <tbody>\n",
       "    <tr>\n",
       "      <td>5610162</td>\n",
       "      <td>LJ. CENTER, MESTNI TRG</td>\n",
       "      <td>1459</td>\n",
       "      <td>2.5</td>\n",
       "      <td>86.00</td>\n",
       "      <td>Komfort skupina d.o.o., nepremičnine</td>\n",
       "      <td>288000.00</td>\n",
       "      <td>2</td>\n",
       "    </tr>\n",
       "    <tr>\n",
       "      <td>5867227</td>\n",
       "      <td>LJ. VIČ, CESTA NA BRDO</td>\n",
       "      <td>2011</td>\n",
       "      <td>3.0</td>\n",
       "      <td>197.39</td>\n",
       "      <td>Zasebna ponudba</td>\n",
       "      <td>349900.00</td>\n",
       "      <td>3</td>\n",
       "    </tr>\n",
       "    <tr>\n",
       "      <td>5893832</td>\n",
       "      <td>LJ. BEŽIGRAD</td>\n",
       "      <td>2014</td>\n",
       "      <td>4.0</td>\n",
       "      <td>105.18</td>\n",
       "      <td>Eko srebrna hiša d.o.o.</td>\n",
       "      <td>466688.74</td>\n",
       "      <td>4</td>\n",
       "    </tr>\n",
       "    <tr>\n",
       "      <td>5893834</td>\n",
       "      <td>LJ. BEŽIGRAD</td>\n",
       "      <td>2014</td>\n",
       "      <td>4.0</td>\n",
       "      <td>150.91</td>\n",
       "      <td>Eko srebrna hiša d.o.o.</td>\n",
       "      <td>638726.62</td>\n",
       "      <td>6</td>\n",
       "    </tr>\n",
       "    <tr>\n",
       "      <td>5896102</td>\n",
       "      <td>LJ. BEŽIGRAD</td>\n",
       "      <td>2014</td>\n",
       "      <td>3.0</td>\n",
       "      <td>90.43</td>\n",
       "      <td>Eko srebrna hiša d.o.o.</td>\n",
       "      <td>390647.08</td>\n",
       "      <td>3</td>\n",
       "    </tr>\n",
       "    <tr>\n",
       "      <td>...</td>\n",
       "      <td>...</td>\n",
       "      <td>...</td>\n",
       "      <td>...</td>\n",
       "      <td>...</td>\n",
       "      <td>...</td>\n",
       "      <td>...</td>\n",
       "      <td>...</td>\n",
       "    </tr>\n",
       "    <tr>\n",
       "      <td>6303210</td>\n",
       "      <td>LJ. ŠIŠKA</td>\n",
       "      <td>1964</td>\n",
       "      <td>3.0</td>\n",
       "      <td>69.40</td>\n",
       "      <td>MESTO NEPREMIČNIN d.o.o.</td>\n",
       "      <td>174000.00</td>\n",
       "      <td>1</td>\n",
       "    </tr>\n",
       "    <tr>\n",
       "      <td>6303211</td>\n",
       "      <td>LJ. CENTER, BETETHOVNOVA ULICA</td>\n",
       "      <td>1924</td>\n",
       "      <td>4.0</td>\n",
       "      <td>142.50</td>\n",
       "      <td>Nepremičnine Plus d.o.o.</td>\n",
       "      <td>535000.00</td>\n",
       "      <td>5</td>\n",
       "    </tr>\n",
       "    <tr>\n",
       "      <td>6303228</td>\n",
       "      <td>FUŽINE</td>\n",
       "      <td>1985</td>\n",
       "      <td>4.0</td>\n",
       "      <td>99.00</td>\n",
       "      <td>STAN nepremičnine d.o.o., Ljubljana</td>\n",
       "      <td>250000.00</td>\n",
       "      <td>2</td>\n",
       "    </tr>\n",
       "    <tr>\n",
       "      <td>6303233</td>\n",
       "      <td>LJ. MOSTE</td>\n",
       "      <td>1843</td>\n",
       "      <td>2.0</td>\n",
       "      <td>54.00</td>\n",
       "      <td>DVOREC POSREDNIŠKA HIŠA d.o.o.</td>\n",
       "      <td>119900.00</td>\n",
       "      <td>1</td>\n",
       "    </tr>\n",
       "    <tr>\n",
       "      <td>6303244</td>\n",
       "      <td>LJ. CENTER</td>\n",
       "      <td>1845</td>\n",
       "      <td>3.0</td>\n",
       "      <td>75.00</td>\n",
       "      <td>LJUBLJANA NEPREMIČNINE d.o.o.</td>\n",
       "      <td>275000.00</td>\n",
       "      <td>2</td>\n",
       "    </tr>\n",
       "  </tbody>\n",
       "</table>\n",
       "<p>1548 rows × 7 columns</p>\n",
       "</div>"
      ],
      "text/plain": [
       "                               Lokacija  Leto  Sobe  Kvadratura  \\\n",
       "Id                                                                \n",
       "5610162          LJ. CENTER, MESTNI TRG  1459   2.5       86.00   \n",
       "5867227          LJ. VIČ, CESTA NA BRDO  2011   3.0      197.39   \n",
       "5893832                    LJ. BEŽIGRAD  2014   4.0      105.18   \n",
       "5893834                    LJ. BEŽIGRAD  2014   4.0      150.91   \n",
       "5896102                    LJ. BEŽIGRAD  2014   3.0       90.43   \n",
       "...                                 ...   ...   ...         ...   \n",
       "6303210                       LJ. ŠIŠKA  1964   3.0       69.40   \n",
       "6303211  LJ. CENTER, BETETHOVNOVA ULICA  1924   4.0      142.50   \n",
       "6303228                          FUŽINE  1985   4.0       99.00   \n",
       "6303233                       LJ. MOSTE  1843   2.0       54.00   \n",
       "6303244                      LJ. CENTER  1845   3.0       75.00   \n",
       "\n",
       "                                     Agencija       Cena  Cenovni_razred  \n",
       "Id                                                                        \n",
       "5610162  Komfort skupina d.o.o., nepremičnine  288000.00               2  \n",
       "5867227                       Zasebna ponudba  349900.00               3  \n",
       "5893832               Eko srebrna hiša d.o.o.  466688.74               4  \n",
       "5893834               Eko srebrna hiša d.o.o.  638726.62               6  \n",
       "5896102               Eko srebrna hiša d.o.o.  390647.08               3  \n",
       "...                                       ...        ...             ...  \n",
       "6303210              MESTO NEPREMIČNIN d.o.o.  174000.00               1  \n",
       "6303211              Nepremičnine Plus d.o.o.  535000.00               5  \n",
       "6303228   STAN nepremičnine d.o.o., Ljubljana  250000.00               2  \n",
       "6303233        DVOREC POSREDNIŠKA HIŠA d.o.o.  119900.00               1  \n",
       "6303244         LJUBLJANA NEPREMIČNINE d.o.o.  275000.00               2  \n",
       "\n",
       "[1548 rows x 7 columns]"
      ]
     },
     "execution_count": 19,
     "metadata": {},
     "output_type": "execute_result"
    }
   ],
   "source": [
    "nepremicnine"
   ]
  },
  {
   "cell_type": "code",
   "execution_count": 30,
   "metadata": {},
   "outputs": [],
   "source": [
    "povp_kvadratura = nepremicnine.Kvadratura.sum().round() // nepremicnine.Lokacija.count()\n",
    "povp_cena = nepremicnine.Cena.sum().round() // nepremicnine.Lokacija.count()"
   ]
  },
  {
   "cell_type": "code",
   "execution_count": 31,
   "metadata": {},
   "outputs": [
    {
     "data": {
      "text/plain": [
       "3129.0"
      ]
     },
     "execution_count": 31,
     "metadata": {},
     "output_type": "execute_result"
    }
   ],
   "source": [
    "povp_cena // povp_kvadratura"
   ]
  },
  {
   "cell_type": "markdown",
   "metadata": {},
   "source": [
    "# Najbolj ugodno stanovanje\n",
    "\n",
    "Najbolj ugodno stanovanje bom ovrednotil le na podlagi njene kvadrature, ker se mi podatek o tem koliko je sob zdi odveč."
   ]
  },
  {
   "cell_type": "code",
   "execution_count": 115,
   "metadata": {},
   "outputs": [
    {
     "data": {
      "text/html": [
       "<div>\n",
       "<style scoped>\n",
       "    .dataframe tbody tr th:only-of-type {\n",
       "        vertical-align: middle;\n",
       "    }\n",
       "\n",
       "    .dataframe tbody tr th {\n",
       "        vertical-align: top;\n",
       "    }\n",
       "\n",
       "    .dataframe thead th {\n",
       "        text-align: right;\n",
       "    }\n",
       "</style>\n",
       "<table border=\"1\" class=\"dataframe\">\n",
       "  <thead>\n",
       "    <tr style=\"text-align: right;\">\n",
       "      <th></th>\n",
       "      <th>Lokacija</th>\n",
       "      <th>Leto</th>\n",
       "      <th>Sobe</th>\n",
       "      <th>Kvadratura</th>\n",
       "      <th>Agencija</th>\n",
       "      <th>Cena</th>\n",
       "      <th>Cenovni_razred</th>\n",
       "      <th>Povprecen_kvadraten_meter</th>\n",
       "    </tr>\n",
       "    <tr>\n",
       "      <th>Id</th>\n",
       "      <th></th>\n",
       "      <th></th>\n",
       "      <th></th>\n",
       "      <th></th>\n",
       "      <th></th>\n",
       "      <th></th>\n",
       "      <th></th>\n",
       "      <th></th>\n",
       "    </tr>\n",
       "  </thead>\n",
       "  <tbody>\n",
       "    <tr>\n",
       "      <td>5610162</td>\n",
       "      <td>LJ. CENTER, MESTNI TRG</td>\n",
       "      <td>1459</td>\n",
       "      <td>2.5</td>\n",
       "      <td>86.00</td>\n",
       "      <td>Komfort skupina d.o.o., nepremičnine</td>\n",
       "      <td>288000.00</td>\n",
       "      <td>3</td>\n",
       "      <td>3348.84</td>\n",
       "    </tr>\n",
       "    <tr>\n",
       "      <td>5867227</td>\n",
       "      <td>LJ. VIČ, CESTA NA BRDO</td>\n",
       "      <td>2011</td>\n",
       "      <td>3.0</td>\n",
       "      <td>197.39</td>\n",
       "      <td>Zasebna ponudba</td>\n",
       "      <td>349900.00</td>\n",
       "      <td>4</td>\n",
       "      <td>1772.63</td>\n",
       "    </tr>\n",
       "    <tr>\n",
       "      <td>5893832</td>\n",
       "      <td>LJ. BEŽIGRAD</td>\n",
       "      <td>2014</td>\n",
       "      <td>4.0</td>\n",
       "      <td>105.18</td>\n",
       "      <td>Eko srebrna hiša d.o.o.</td>\n",
       "      <td>466688.74</td>\n",
       "      <td>5</td>\n",
       "      <td>4437.05</td>\n",
       "    </tr>\n",
       "    <tr>\n",
       "      <td>5893834</td>\n",
       "      <td>LJ. BEŽIGRAD</td>\n",
       "      <td>2014</td>\n",
       "      <td>4.0</td>\n",
       "      <td>150.91</td>\n",
       "      <td>Eko srebrna hiša d.o.o.</td>\n",
       "      <td>638726.62</td>\n",
       "      <td>7</td>\n",
       "      <td>4232.50</td>\n",
       "    </tr>\n",
       "    <tr>\n",
       "      <td>5896102</td>\n",
       "      <td>LJ. BEŽIGRAD</td>\n",
       "      <td>2014</td>\n",
       "      <td>3.0</td>\n",
       "      <td>90.43</td>\n",
       "      <td>Eko srebrna hiša d.o.o.</td>\n",
       "      <td>390647.08</td>\n",
       "      <td>4</td>\n",
       "      <td>4319.88</td>\n",
       "    </tr>\n",
       "    <tr>\n",
       "      <td>...</td>\n",
       "      <td>...</td>\n",
       "      <td>...</td>\n",
       "      <td>...</td>\n",
       "      <td>...</td>\n",
       "      <td>...</td>\n",
       "      <td>...</td>\n",
       "      <td>...</td>\n",
       "      <td>...</td>\n",
       "    </tr>\n",
       "    <tr>\n",
       "      <td>6303210</td>\n",
       "      <td>LJ. ŠIŠKA</td>\n",
       "      <td>1964</td>\n",
       "      <td>3.0</td>\n",
       "      <td>69.40</td>\n",
       "      <td>MESTO NEPREMIČNIN d.o.o.</td>\n",
       "      <td>174000.00</td>\n",
       "      <td>2</td>\n",
       "      <td>2507.20</td>\n",
       "    </tr>\n",
       "    <tr>\n",
       "      <td>6303211</td>\n",
       "      <td>LJ. CENTER, BETETHOVNOVA ULICA</td>\n",
       "      <td>1924</td>\n",
       "      <td>4.0</td>\n",
       "      <td>142.50</td>\n",
       "      <td>Nepremičnine Plus d.o.o.</td>\n",
       "      <td>535000.00</td>\n",
       "      <td>6</td>\n",
       "      <td>3754.39</td>\n",
       "    </tr>\n",
       "    <tr>\n",
       "      <td>6303228</td>\n",
       "      <td>FUŽINE</td>\n",
       "      <td>1985</td>\n",
       "      <td>4.0</td>\n",
       "      <td>99.00</td>\n",
       "      <td>STAN nepremičnine d.o.o., Ljubljana</td>\n",
       "      <td>250000.00</td>\n",
       "      <td>3</td>\n",
       "      <td>2525.25</td>\n",
       "    </tr>\n",
       "    <tr>\n",
       "      <td>6303233</td>\n",
       "      <td>LJ. MOSTE</td>\n",
       "      <td>1843</td>\n",
       "      <td>2.0</td>\n",
       "      <td>54.00</td>\n",
       "      <td>DVOREC POSREDNIŠKA HIŠA d.o.o.</td>\n",
       "      <td>119900.00</td>\n",
       "      <td>2</td>\n",
       "      <td>2220.37</td>\n",
       "    </tr>\n",
       "    <tr>\n",
       "      <td>6303244</td>\n",
       "      <td>LJ. CENTER</td>\n",
       "      <td>1845</td>\n",
       "      <td>3.0</td>\n",
       "      <td>75.00</td>\n",
       "      <td>LJUBLJANA NEPREMIČNINE d.o.o.</td>\n",
       "      <td>275000.00</td>\n",
       "      <td>3</td>\n",
       "      <td>3666.67</td>\n",
       "    </tr>\n",
       "  </tbody>\n",
       "</table>\n",
       "<p>1548 rows × 8 columns</p>\n",
       "</div>"
      ],
      "text/plain": [
       "                               Lokacija  Leto  Sobe  Kvadratura  \\\n",
       "Id                                                                \n",
       "5610162          LJ. CENTER, MESTNI TRG  1459   2.5       86.00   \n",
       "5867227          LJ. VIČ, CESTA NA BRDO  2011   3.0      197.39   \n",
       "5893832                    LJ. BEŽIGRAD  2014   4.0      105.18   \n",
       "5893834                    LJ. BEŽIGRAD  2014   4.0      150.91   \n",
       "5896102                    LJ. BEŽIGRAD  2014   3.0       90.43   \n",
       "...                                 ...   ...   ...         ...   \n",
       "6303210                       LJ. ŠIŠKA  1964   3.0       69.40   \n",
       "6303211  LJ. CENTER, BETETHOVNOVA ULICA  1924   4.0      142.50   \n",
       "6303228                          FUŽINE  1985   4.0       99.00   \n",
       "6303233                       LJ. MOSTE  1843   2.0       54.00   \n",
       "6303244                      LJ. CENTER  1845   3.0       75.00   \n",
       "\n",
       "                                     Agencija       Cena  Cenovni_razred  \\\n",
       "Id                                                                         \n",
       "5610162  Komfort skupina d.o.o., nepremičnine  288000.00               3   \n",
       "5867227                       Zasebna ponudba  349900.00               4   \n",
       "5893832               Eko srebrna hiša d.o.o.  466688.74               5   \n",
       "5893834               Eko srebrna hiša d.o.o.  638726.62               7   \n",
       "5896102               Eko srebrna hiša d.o.o.  390647.08               4   \n",
       "...                                       ...        ...             ...   \n",
       "6303210              MESTO NEPREMIČNIN d.o.o.  174000.00               2   \n",
       "6303211              Nepremičnine Plus d.o.o.  535000.00               6   \n",
       "6303228   STAN nepremičnine d.o.o., Ljubljana  250000.00               3   \n",
       "6303233        DVOREC POSREDNIŠKA HIŠA d.o.o.  119900.00               2   \n",
       "6303244         LJUBLJANA NEPREMIČNINE d.o.o.  275000.00               3   \n",
       "\n",
       "         Povprecen_kvadraten_meter  \n",
       "Id                                  \n",
       "5610162                    3348.84  \n",
       "5867227                    1772.63  \n",
       "5893832                    4437.05  \n",
       "5893834                    4232.50  \n",
       "5896102                    4319.88  \n",
       "...                            ...  \n",
       "6303210                    2507.20  \n",
       "6303211                    3754.39  \n",
       "6303228                    2525.25  \n",
       "6303233                    2220.37  \n",
       "6303244                    3666.67  \n",
       "\n",
       "[1548 rows x 8 columns]"
      ]
     },
     "execution_count": 115,
     "metadata": {},
     "output_type": "execute_result"
    }
   ],
   "source": [
    "nepremicnine[\"Povprecen_kvadraten_meter\"] = (nepremicnine.Cena / nepremicnine.Kvadratura).round(2)\n",
    "nepremicnine"
   ]
  },
  {
   "cell_type": "code",
   "execution_count": 83,
   "metadata": {},
   "outputs": [
    {
     "data": {
      "text/plain": [
       "11.0"
      ]
     },
     "execution_count": 83,
     "metadata": {},
     "output_type": "execute_result"
    }
   ],
   "source": [
    "najboljsi_kvadrat = nepremicnine.Povprecen_kvadraten_meter.min()\n",
    "najboljsi_kvadrat"
   ]
  },
  {
   "cell_type": "code",
   "execution_count": 84,
   "metadata": {},
   "outputs": [
    {
     "data": {
      "text/html": [
       "<div>\n",
       "<style scoped>\n",
       "    .dataframe tbody tr th:only-of-type {\n",
       "        vertical-align: middle;\n",
       "    }\n",
       "\n",
       "    .dataframe tbody tr th {\n",
       "        vertical-align: top;\n",
       "    }\n",
       "\n",
       "    .dataframe thead th {\n",
       "        text-align: right;\n",
       "    }\n",
       "</style>\n",
       "<table border=\"1\" class=\"dataframe\">\n",
       "  <thead>\n",
       "    <tr style=\"text-align: right;\">\n",
       "      <th></th>\n",
       "      <th>Lokacija</th>\n",
       "      <th>Leto</th>\n",
       "      <th>Sobe</th>\n",
       "      <th>Kvadratura</th>\n",
       "      <th>Agencija</th>\n",
       "      <th>Cena</th>\n",
       "      <th>Cenovni_razred</th>\n",
       "      <th>Povprecen_kvadraten_meter</th>\n",
       "    </tr>\n",
       "    <tr>\n",
       "      <th>Id</th>\n",
       "      <th></th>\n",
       "      <th></th>\n",
       "      <th></th>\n",
       "      <th></th>\n",
       "      <th></th>\n",
       "      <th></th>\n",
       "      <th></th>\n",
       "      <th></th>\n",
       "    </tr>\n",
       "  </thead>\n",
       "  <tbody>\n",
       "    <tr>\n",
       "      <td>6295198</td>\n",
       "      <td>LJ. CENTER</td>\n",
       "      <td>1550</td>\n",
       "      <td>5.0</td>\n",
       "      <td>250.0</td>\n",
       "      <td>RCN d.o.o.</td>\n",
       "      <td>2750.0</td>\n",
       "      <td>1</td>\n",
       "      <td>11.0</td>\n",
       "    </tr>\n",
       "  </tbody>\n",
       "</table>\n",
       "</div>"
      ],
      "text/plain": [
       "           Lokacija  Leto  Sobe  Kvadratura    Agencija    Cena  \\\n",
       "Id                                                                \n",
       "6295198  LJ. CENTER  1550   5.0       250.0  RCN d.o.o.  2750.0   \n",
       "\n",
       "         Cenovni_razred  Povprecen_kvadraten_meter  \n",
       "Id                                                  \n",
       "6295198               1                       11.0  "
      ]
     },
     "execution_count": 84,
     "metadata": {},
     "output_type": "execute_result"
    }
   ],
   "source": [
    "nepremicnine[nepremicnine.Povprecen_kvadraten_meter == 11.0]"
   ]
  },
  {
   "cell_type": "markdown",
   "metadata": {},
   "source": [
    "To se kar splača kupiti, vendar je verjetno potrebna obnova."
   ]
  }
 ],
 "metadata": {
  "kernelspec": {
   "display_name": "Python 3",
   "language": "python",
   "name": "python3"
  },
  "language_info": {
   "codemirror_mode": {
    "name": "ipython",
    "version": 3
   },
   "file_extension": ".py",
   "mimetype": "text/x-python",
   "name": "python",
   "nbconvert_exporter": "python",
   "pygments_lexer": "ipython3",
   "version": "3.7.4"
  }
 },
 "nbformat": 4,
 "nbformat_minor": 2
}
